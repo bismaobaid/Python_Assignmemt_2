{
  "nbformat": 4,
  "nbformat_minor": 0,
  "metadata": {
    "colab": {
      "provenance": []
    },
    "kernelspec": {
      "name": "python3",
      "display_name": "Python 3"
    },
    "language_info": {
      "name": "python"
    }
  },
  "cells": [
    {
      "cell_type": "code",
      "execution_count": null,
      "metadata": {
        "colab": {
          "base_uri": "https://localhost:8080/"
        },
        "id": "utQ1RSpV9FJl",
        "outputId": "e084ef22-b68f-4260-8cba-48b61ae2ffc0"
      },
      "outputs": [
        {
          "output_type": "stream",
          "name": "stdout",
          "text": [
            "enter the number : 3\n",
            "the factorial of the given number is : 6 \n"
          ]
        }
      ],
      "source": [
        "# 1a) Write a program using a FOR loop to find the factorial of num and print out the result at the end\n",
        "\n",
        "no=int(input(\"enter the number : \"))\n",
        "factorial=1\n",
        "for i in range (1,no+1):\n",
        "  factorial=factorial*i\n",
        "print(f\"the factorial of the given number is : {factorial} \" )\n"
      ]
    },
    {
      "cell_type": "code",
      "source": [
        "# 1b) Now rewrite the program using a WHILE loop\n",
        "\n",
        "no=int(input(\"enter the number : \"))\n",
        "factorial=1\n",
        "while(no>0):\n",
        "    factorial=factorial*no\n",
        "    no=no-1\n",
        "\n",
        "print(f\"the factorial of the given number is : {factorial} \" )"
      ],
      "metadata": {
        "colab": {
          "base_uri": "https://localhost:8080/"
        },
        "id": "OZd4vfdp-zlF",
        "outputId": "32386799-442b-4b25-db11-c38d33c86b76"
      },
      "execution_count": null,
      "outputs": [
        {
          "output_type": "stream",
          "name": "stdout",
          "text": [
            "enter the number : 10\n",
            "the factorial of the given number is : 3628800 \n"
          ]
        }
      ]
    },
    {
      "cell_type": "code",
      "source": [
        "# 1c) Convert either one of the above programs into a function called factorial() that takes in a number and returns its factorial.\n",
        "\n",
        "\n",
        "\n",
        "def factorial(no):\n",
        "  factorial=1\n",
        "  while(no>0):\n",
        "    factorial=factorial*no\n",
        "    no=no-1\n",
        "  return factorial\n",
        "\n",
        "no=int(input(\"enter the number : \"))\n",
        "x=factorial(no)\n",
        "print(f\"the factorial of the given number is : {x} \" )\n"
      ],
      "metadata": {
        "id": "FC3i72yF_t-1",
        "colab": {
          "base_uri": "https://localhost:8080/"
        },
        "outputId": "e415626f-bffc-4e96-ebb9-bf2b80acaef9"
      },
      "execution_count": null,
      "outputs": [
        {
          "output_type": "stream",
          "name": "stdout",
          "text": [
            "enter the number : 1\n",
            "the factorial of the given number is : 1 \n"
          ]
        }
      ]
    },
    {
      "cell_type": "code",
      "source": [
        "\"\"\" 1d) Call this factorial function on the numbers 0, 1, 8 and 10 and print each result (no need to store in variables). Is your function\n",
        "working fine for 0! and 1! ? \"\"\"\n",
        "\n",
        "def factorial(no):\n",
        "  factorial=1\n",
        "  while(no>0):\n",
        "    factorial=factorial*no\n",
        "    no=no-1\n",
        "  return factorial\n",
        "\n",
        "\n",
        "\n",
        "print(f\"the factorial of the 0 number is : {factorial(0)} \" )\n",
        "print(f\"the factorial of the 1 number is : {factorial(1)} \" )\n",
        "print(f\"the factorial of the 8 number is : {factorial(8)} \" )\n",
        "print(f\"the factorial of the 10 number is : {factorial(10)} \" )\n"
      ],
      "metadata": {
        "colab": {
          "base_uri": "https://localhost:8080/"
        },
        "id": "kyhkdnyxibGW",
        "outputId": "132cb12e-b19c-4e96-8eb1-f7d2a8fb7b23"
      },
      "execution_count": null,
      "outputs": [
        {
          "output_type": "stream",
          "name": "stdout",
          "text": [
            "the factorial of the 0 number is : 1 \n",
            "the factorial of the 1 number is : 1 \n",
            "the factorial of the 8 number is : 40320 \n",
            "the factorial of the 10 number is : 3628800 \n"
          ]
        }
      ]
    },
    {
      "cell_type": "code",
      "source": [
        "# 1e) Call factorial on the number 6 and store its result in a variable called factorial_6. Print factorial_6\n",
        "\n",
        "def factorial(no):\n",
        "  factorial=1\n",
        "  while(no>0):\n",
        "    factorial=factorial*no\n",
        "    no=no-1\n",
        "  return factorial\n",
        "factorial_6=factorial(6)\n",
        "print(f\"the factorial of the 0 number is : {factorial_6} \" )"
      ],
      "metadata": {
        "colab": {
          "base_uri": "https://localhost:8080/"
        },
        "id": "pvG2swyAj3db",
        "outputId": "24b5fc5c-2170-454a-c5ea-9d84ea12e12f"
      },
      "execution_count": null,
      "outputs": [
        {
          "output_type": "stream",
          "name": "stdout",
          "text": [
            "the factorial of the 0 number is : 720 \n"
          ]
        }
      ]
    },
    {
      "cell_type": "markdown",
      "source": [
        "[Question 2]\n"
      ],
      "metadata": {
        "id": "2fZ1eT6Wki1I"
      }
    },
    {
      "cell_type": "code",
      "source": [
        "\"\"\"\n",
        "2a) Write a loop that converts the following two lists into\n",
        "one dictionary like so: {'Ten': 10, 'Twenty': 20, 'Thirty': 30, 'Forty': 40}. Print out this dictionary at the end.\n",
        "\"\"\"\n",
        "a=[\"Ten\",\"Twenty\",\"Thirty\",\"Forty\"]\n",
        "b=[10,20,30,40]\n",
        "\n",
        "myList=dict(zip(a,b))\n",
        "print(myList)"
      ],
      "metadata": {
        "colab": {
          "base_uri": "https://localhost:8080/"
        },
        "id": "WYKbpyL7kh4B",
        "outputId": "7a55803e-6ec4-4987-906a-db6625699f7b"
      },
      "execution_count": null,
      "outputs": [
        {
          "output_type": "stream",
          "name": "stdout",
          "text": [
            "{'Ten': 10, 'Twenty': 20, 'Thirty': 30, 'Forty': 40}\n"
          ]
        }
      ]
    },
    {
      "cell_type": "code",
      "source": [
        "\"\"\"\n",
        "2b) Now use the code above and write a function convert_to_dict(), that takes in 2\n",
        " lists and combines them into a dictionary and returns that dictionary.\n",
        "1) INSIDE this function, first add a check to ensure that the two lists are of\n",
        "equal length. If the input lists are not of equal length, you should return an empty dictionary\n",
        "and print a message saying \"list lengths are not the same\".\n",
        "2) set this function's defaults to empty lists. Doing this should return an empty dictionary\n",
        "if the function is called with no arguments.\n",
        "\"\"\"\n",
        "\n",
        "def convert_to_dict(a,b):\n",
        "  if(len(a)==len(b)):\n",
        "    myList=dict(zip(a,b))\n",
        "    return myList\n",
        "  else:\n",
        "    print(\"list lengths are not the same\")\n",
        "    return {}\n",
        "\n",
        "  myList=dict(zip(a,b))\n",
        "  return myList\n",
        "\n",
        "a=[\"Ten\",\"Twenty\",\"Thirty\",\"Forty\"]\n",
        "b=[10,20,30,40]\n",
        "ans=convert_to_dict(a,b)\n",
        "print(ans)\n",
        "\n",
        "\n",
        "\n"
      ],
      "metadata": {
        "colab": {
          "base_uri": "https://localhost:8080/"
        },
        "id": "vx1eit5xWUYm",
        "outputId": "6cc67acb-4455-4d18-e275-494b5eb8cb34"
      },
      "execution_count": null,
      "outputs": [
        {
          "output_type": "stream",
          "name": "stdout",
          "text": [
            "{'Ten': 10, 'Twenty': 20, 'Thirty': 30, 'Forty': 40}\n"
          ]
        }
      ]
    },
    {
      "cell_type": "code",
      "source": [
        "# 2b(part 2)\n",
        "\"\"\"\n",
        "2) set this function's defaults to empty lists. Doing this should return an empty dictionary\n",
        "if the function is called with no arguments.\"\"\"\n",
        "\n",
        "def convert_to_dict(a=[],b=[]):\n",
        "  if(len(a)==len(b)):\n",
        "    myList=dict(zip(a,b))\n",
        "    return myList\n",
        "  else:\n",
        "    print(\"list lengths are not the same\")\n",
        "    return {}\n",
        "\n",
        "  myList=dict(zip(a,b))\n",
        "  return myList\n",
        "\n",
        "ans=convert_to_dict()\n",
        "print(ans)\n",
        "\n"
      ],
      "metadata": {
        "colab": {
          "base_uri": "https://localhost:8080/"
        },
        "id": "hRjCL-9ATnbm",
        "outputId": "d24029c5-6c25-429f-c110-f668d82d6fe4"
      },
      "execution_count": null,
      "outputs": [
        {
          "output_type": "stream",
          "name": "stdout",
          "text": [
            "{}\n"
          ]
        }
      ]
    },
    {
      "cell_type": "code",
      "source": [
        "# 2c) Call the function convert_to_dict on the two lists below, and store the resulting dictionary in a variable fruit_prices. Print fruit_prices.\n",
        "\n",
        "\n",
        "def convert_to_dict(a=[\"Orange\",\"Tomato\",\"Banana\",\"Apple\"],b=[34,5,10,38] ):\n",
        "  if(len(a)==len(b)):\n",
        "    fruits=dict(zip(a,b))\n",
        "    return fruits\n",
        "  else:\n",
        "    print(\"list lengths are not the same\")\n",
        "    return {}\n",
        "\n",
        "\n"
      ],
      "metadata": {
        "id": "sZaNAs0oZb3e"
      },
      "execution_count": null,
      "outputs": []
    },
    {
      "cell_type": "code",
      "source": [
        "# 2d) Call the function convert_to_dict on the two lists below\n",
        "\n",
        "fruit_prices=convert_to_dict(a,b)\n",
        "print(fruit_prices)\n",
        "\n",
        "\n"
      ],
      "metadata": {
        "colab": {
          "base_uri": "https://localhost:8080/"
        },
        "id": "keChTcfwZkpg",
        "outputId": "4eb1e0c3-f221-4610-b4d9-e925ef4cceea"
      },
      "execution_count": null,
      "outputs": [
        {
          "output_type": "stream",
          "name": "stdout",
          "text": [
            "{'Orange': 34, 'Tomato': 5, 'Banana': 10, 'Apple': 38}\n"
          ]
        }
      ]
    },
    {
      "cell_type": "code",
      "source": [
        "# 2e) Call the function convert_to_dict with no arguments\n",
        "\n",
        "convert_to_dict()"
      ],
      "metadata": {
        "colab": {
          "base_uri": "https://localhost:8080/"
        },
        "id": "ZRLwGZGqZvwE",
        "outputId": "0f4e622a-fb1b-4eab-9998-8e01ec472a27"
      },
      "execution_count": null,
      "outputs": [
        {
          "output_type": "execute_result",
          "data": {
            "text/plain": [
              "{'Orange': 34, 'Tomato': 5, 'Banana': 10, 'Apple': 38}"
            ]
          },
          "metadata": {},
          "execution_count": 40
        }
      ]
    },
    {
      "cell_type": "markdown",
      "source": [],
      "metadata": {
        "id": "mzLZJ2HOZ1Fp"
      }
    },
    {
      "cell_type": "code",
      "source": [
        "\"\"\" 2f) Now, convert the following two lists into a single dictionary but this time,\n",
        " use dictionary comprehension. (consult your session 5 notebook). Print out the dictionary at the end.\"\"\"\n",
        "\n",
        "\n",
        "\n",
        "print({i[0]: i[1] for i in zip([\"Orange\",\"Tomato\",\"Banana\",\"Apple\"],[34,5,10,38])})\n",
        "\n",
        "\n"
      ],
      "metadata": {
        "colab": {
          "base_uri": "https://localhost:8080/"
        },
        "id": "v0yfllvkZzkG",
        "outputId": "6f5c0d53-b297-4211-8493-d0c3554ba823"
      },
      "execution_count": null,
      "outputs": [
        {
          "output_type": "stream",
          "name": "stdout",
          "text": [
            "{'Orange': 34, 'Tomato': 5, 'Banana': 10, 'Apple': 38}\n"
          ]
        }
      ]
    },
    {
      "cell_type": "code",
      "source": [
        "\"\"\"\n",
        "[QUESTION 3]\n",
        "Here is the while loop number guessing game we made in class. Change the code according to the following:\n",
        "\n",
        "1) Set an answer\n",
        "2) Give the user five guesses\n",
        "3) First msg should read \"Please enter your first guess: \"\n",
        "4) At each guess, tell the user if their guess is too high or too low. your msg should read \"too high! try again: \" or \"too low! try again: \".\n",
        "5) However, if the difference between the guess and answer is 3 points or less in either direction, your msg should read \"very close! go higher: \"\n",
        "or \"very close! go lower: \".\n",
        "6) If the player loses, show \"Sorry, you lost! The answer was __\"\n",
        "7) If the player wins, show \"Congratulations! You guessed it!\"\n",
        "\n",
        "(play it with different values of answer to test it)\n",
        "\"\"\"\n",
        "#change the following game we wrote in class according to the guidelines above\n",
        "\n",
        "user_input= int(input(\"Please enter your first guess : \"))\n",
        "answer = 50\n",
        "guesses = 5\n",
        "\n",
        "while user_input != answer:\n",
        "\n",
        "    guesses -= 1 #guess = 2\n",
        "\n",
        "    if guesses == 0:\n",
        "        print(f\"Sorry! You lost the answer was {answer} \")\n",
        "        break\n",
        "    elif abs(user_input - answer) <= 3:\n",
        "        if user_input < answer:\n",
        "            print(\"Very close! Go higher: \", end=\" \")\n",
        "            user_input= int(input(\"Wrong! Please enter your number again: \"))\n",
        "        elif user_input > answer:\n",
        "            print(\"Very close! Go lower: \" , end=\" \")\n",
        "            user_input= int(input(\"Wrong! Please enter your number again: \"))\n",
        "    elif (user_input < answer):\n",
        "      print(\"Too low! Try again: \")\n",
        "      user_input= int(input(\"Wrong! Please enter your number again: \"))\n",
        "    else:\n",
        "      print(\"Too high! Try again: \")\n",
        "      user_input= int(input(\"Wrong! Please enter your number again: \"))\n",
        "\n",
        "else:\n",
        "\n",
        "    print(\"congratulations! you guessed it !\")\n",
        "\n"
      ],
      "metadata": {
        "colab": {
          "base_uri": "https://localhost:8080/"
        },
        "id": "Qo3Uk5lYAjwS",
        "outputId": "73114e35-dcfa-4029-dcad-bf6e0a64d487"
      },
      "execution_count": null,
      "outputs": [
        {
          "output_type": "stream",
          "name": "stdout",
          "text": [
            "Please enter your first guess : 2\n",
            "Too low! Try again: \n",
            "Wrong! Please enter your number again: 2\n",
            "Too low! Try again: \n",
            "Wrong! Please enter your number again: 2\n",
            "Too low! Try again: \n",
            "Wrong! Please enter your number again: 2\n",
            "Too low! Try again: \n",
            "Wrong! Please enter your number again: 2\n",
            "Sorry! You lost the answer was 50 \n"
          ]
        }
      ]
    },
    {
      "cell_type": "code",
      "source": [
        "\"\"\"\n",
        "[QUESTION 4]\n",
        "\n",
        "4a) Design a function called case_check(). this function should take a\n",
        "string as an input and return a dictionary giving the count of uppercase and lowercase letters in the string. for example:\n",
        "\n",
        "case_check(\"I aM goInG OuT!\") should return {'Upper': 6, 'Lower': 5}\"\"\"\n",
        "\n",
        "def case_check(a):\n",
        "  x=len(a)\n",
        "  for i in range (x):\n",
        "    if(a[i].isupper()):\n",
        "      case_c[\"Upper\"]+=1\n",
        "    elif(a[i].islower()):\n",
        "      case_c[\"Lower\"]+=1\n",
        "    else:\n",
        "       continue\n",
        "\n",
        "  return case_c\n",
        "\n"
      ],
      "metadata": {
        "id": "xWn0sNuYl_ig"
      },
      "execution_count": null,
      "outputs": []
    },
    {
      "cell_type": "code",
      "source": [
        "\"\"\"\n",
        "4b) Test case_check on the following strings and print out the result of each string.\n",
        " No need to store in variables.\"\"\"\n",
        "\n",
        "def case_check(a):\n",
        "  x=len(a)\n",
        "  for i in range (x):\n",
        "    if(a[i].isupper()):\n",
        "      case_c[\"Upper\"]+=1\n",
        "    elif(a[i].islower()):\n",
        "      case_c[\"Lower\"]+=1\n",
        "    else:\n",
        "       continue\n",
        "\n",
        "  return case_c\n",
        "\n",
        "case_c={\"Upper\":0,\"Lower\":0}\n",
        "case_check(\"I aM goInG OuT!\")\n",
        "print(case_c)"
      ],
      "metadata": {
        "id": "eR-nM0Be2Ljc"
      },
      "execution_count": null,
      "outputs": []
    },
    {
      "cell_type": "code",
      "source": [
        "\"\"\"\n",
        "[QUESTION 5]\n",
        "5a) Design a function called square() that takes in any number of integers as arguments\n",
        "and prints out the square of each argument. You should be able to flexibly give this function any number of arguments. for example\n",
        "\n",
        "square(1,7,-4,2) should print the following:\n",
        "\n",
        "square of 1 is 1\n",
        "square of 7 is 49\n",
        "square of -4 is 16\n",
        "square of 2 is 4 \"\"\"\n",
        "\n",
        "def square(mylist):\n",
        "  for i in mylist:\n",
        "    print(f\"square of the number {i} is : {i**2}  \")\n"
      ],
      "metadata": {
        "id": "rbtN_pW51a8h"
      },
      "execution_count": null,
      "outputs": []
    },
    {
      "cell_type": "code",
      "source": [
        "# 5b) Test your function with the following calls:\n",
        "def square(mylist):\n",
        "  for i in mylist:\n",
        "    print(f\"square of  {i} is : {i**2}  \")\n",
        "\n",
        "a=int(input(\"enter the how many no u want to take the square of :\"))\n",
        "mylist=[]\n",
        "for i in range(a):\n",
        "  inp=int(input(\"enter the no you want to take the square of : \"))\n",
        "  mylist.append(inp)\n",
        "\n",
        "square(mylist)"
      ],
      "metadata": {
        "colab": {
          "base_uri": "https://localhost:8080/"
        },
        "id": "Yh_VpynU61A2",
        "outputId": "4b5d6ab0-e08e-4d49-e589-3e2f8b2e97b2"
      },
      "execution_count": null,
      "outputs": [
        {
          "output_type": "stream",
          "name": "stdout",
          "text": [
            "enter the how many no u want to take the square of :4\n",
            "enter the no you want to take the square of : 1\n",
            "enter the no you want to take the square of : 7\n",
            "enter the no you want to take the square of : -4\n",
            "enter the no you want to take the square of : 2\n",
            "square of  1 is : 1  \n",
            "square of  7 is : 49  \n",
            "square of  -4 is : 16  \n",
            "square of  2 is : 4  \n"
          ]
        }
      ]
    },
    {
      "cell_type": "code",
      "source": [
        "# 5b) Test your function with the following calls:\n",
        "def square(mylist):\n",
        "  for i in mylist:\n",
        "    print(f\"square of  {i} is : {i**2}  \")\n",
        "\n",
        "a=int(input(\"enter the how many no u want to take the square of :\"))\n",
        "mylist=[]\n",
        "for i in range(a):\n",
        "  inp=int(input(\"enter the no you want to take the square of : \"))\n",
        "  mylist.append(inp)\n",
        "\n",
        "square(mylist)"
      ],
      "metadata": {
        "colab": {
          "base_uri": "https://localhost:8080/"
        },
        "id": "tNRwtIJn_5k_",
        "outputId": "69eb50c1-7b39-4385-ebb8-c4537a897521"
      },
      "execution_count": null,
      "outputs": [
        {
          "output_type": "stream",
          "name": "stdout",
          "text": [
            "enter the how many no u want to take the square of :3\n",
            "enter the no you want to take the square of : 10\n",
            "enter the no you want to take the square of : -9\n",
            "enter the no you want to take the square of : 0\n",
            "square of  10 is : 100  \n",
            "square of  -9 is : 81  \n",
            "square of  0 is : 0  \n"
          ]
        }
      ]
    },
    {
      "cell_type": "code",
      "source": [
        "# 5b) Test your function with the following calls:\n",
        "def square(mylist):\n",
        "  for i in mylist:\n",
        "    print(f\"square of  {i} is : {i**2}  \")\n",
        "\n",
        "a=int(input(\"enter the how many no u want to take the square of :\"))\n",
        "mylist=[]\n",
        "for i in range(a):\n",
        "  inp=int(input(\"enter the no you want to take the square of : \"))\n",
        "  mylist.append(inp)\n",
        "\n",
        "square(mylist)"
      ],
      "metadata": {
        "colab": {
          "base_uri": "https://localhost:8080/"
        },
        "id": "xpU6l-olAC4s",
        "outputId": "6a14e0a9-6a1d-4b90-98b6-02dbf86b53ca"
      },
      "execution_count": null,
      "outputs": [
        {
          "output_type": "stream",
          "name": "stdout",
          "text": [
            "enter the how many no u want to take the square of :2\n",
            "enter the no you want to take the square of : 2\n",
            "enter the no you want to take the square of : 3\n",
            "square of  2 is : 4  \n",
            "square of  3 is : 9  \n"
          ]
        }
      ]
    },
    {
      "cell_type": "code",
      "source": [
        "\"\"\"\n",
        "QUESTION NO 6\n",
        "Using a lambda function with map, return a list that contains areas of\n",
        " circles with the following radii (use 3.14 for pi). Print out the areas list.\n",
        "\n",
        "Remember: you will need to give map a lambda function and a list to apply the lambda\n",
        "function to. Also, to get a list instead of a map object, you need to put map inside the list function.\n",
        "\n",
        "list(map(your lambda function, your list))\n",
        "\n",
        "\"\"\"\n",
        "\n",
        "ra = [2, 4, 6, 8, 10]\n",
        "areas = list(map(lambda radius: 3.14 * radius ** 2, ra))\n",
        "\n",
        "# Print the resulting areas list\n",
        "print(areas)"
      ],
      "metadata": {
        "colab": {
          "base_uri": "https://localhost:8080/"
        },
        "id": "B1VBBhSwo3D3",
        "outputId": "f6932a77-e544-4d41-b550-db70e028cdd4"
      },
      "execution_count": null,
      "outputs": [
        {
          "output_type": "stream",
          "name": "stdout",
          "text": [
            "[12.56, 50.24, 113.04, 200.96, 314.0]\n"
          ]
        }
      ]
    },
    {
      "cell_type": "code",
      "source": [
        "# In a single line of code, print the number of unique elements in the following list\n",
        "print(list(set([67,45,10,20,67,33,2,2,4])))"
      ],
      "metadata": {
        "colab": {
          "base_uri": "https://localhost:8080/"
        },
        "id": "ymg2gm8tTPE3",
        "outputId": "e0ca857e-584f-4367-8f2e-db81c8c2fe60"
      },
      "execution_count": null,
      "outputs": [
        {
          "output_type": "stream",
          "name": "stdout",
          "text": [
            "[33, 2, 67, 4, 10, 45, 20]\n"
          ]
        }
      ]
    },
    {
      "cell_type": "code",
      "source": [
        "\n"
      ],
      "metadata": {
        "id": "vJhheb9qmtTl"
      },
      "execution_count": null,
      "outputs": []
    }
  ]
}